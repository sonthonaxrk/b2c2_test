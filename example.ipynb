{
 "cells": [
  {
   "cell_type": "code",
   "execution_count": 1,
   "id": "coordinated-darwin",
   "metadata": {},
   "outputs": [],
   "source": [
    "from b2c2.client import B2C2APIClient, env"
   ]
  },
  {
   "cell_type": "code",
   "execution_count": 2,
   "id": "outside-access",
   "metadata": {},
   "outputs": [
    {
     "ename": "NameError",
     "evalue": "name 'latest_trade' is not defined",
     "output_type": "error",
     "traceback": [
      "\u001b[0;31m---------------------------------------------------------------------------\u001b[0m",
      "\u001b[0;31mNameError\u001b[0m                                 Traceback (most recent call last)",
      "\u001b[0;32m<ipython-input-2-c8f5e2ccf40c>\u001b[0m in \u001b[0;36m<module>\u001b[0;34m\u001b[0m\n\u001b[0;32m----> 1\u001b[0;31m \u001b[0mlatest_trade\u001b[0m\u001b[0;34m\u001b[0m\u001b[0;34m\u001b[0m\u001b[0m\n\u001b[0m",
      "\u001b[0;31mNameError\u001b[0m: name 'latest_trade' is not defined"
     ]
    }
   ],
   "source": [
    "latest_trade"
   ]
  },
  {
   "cell_type": "code",
   "execution_count": 3,
   "id": "fitting-space",
   "metadata": {},
   "outputs": [],
   "source": [
    "client = B2C2APIClient(env.uat)\n",
    "import logging\n",
    "logger = logging.getLogger('b2c2')\n",
    "logger.setLevel(logging.DEBUG)\n",
    "logger.addHandler(logging.StreamHandler())\n"
   ]
  },
  {
   "cell_type": "code",
   "execution_count": 4,
   "id": "special-coast",
   "metadata": {},
   "outputs": [
    {
     "name": "stderr",
     "output_type": "stream",
     "text": [
      "Outgoing Request <PreparedRequest [GET]>\n",
      "Incomming Response <Response [200]>\n"
     ]
    },
    {
     "name": "stdout",
     "output_type": "stream",
     "text": [
      "[{'name': 'LTCUSD.SPOT', 'underlier': 'LTCUSD', 'type': 'SPOT'}, {'name': 'LTCSGD.SPOT', 'underlier': 'LTCSGD', 'type': 'SPOT'}, {'name': 'BCHUSD.SPOT', 'underlier': 'BCHUSD', 'type': 'SPOT'}, {'name': 'LTCUST.SPOT', 'underlier': 'LTCUST', 'type': 'SPOT'}, {'name': 'EOSAUD.SPOT', 'underlier': 'EOSAUD', 'type': 'SPOT'}, {'name': 'BTCUSD.SPOT', 'underlier': 'BTCUSD', 'type': 'SPOT'}, {'name': 'BTCEUR.SPOT', 'underlier': 'BTCEUR', 'type': 'SPOT'}, {'name': 'BTCGBP.SPOT', 'underlier': 'BTCGBP', 'type': 'SPOT'}, {'name': 'ETHBTC.SPOT', 'underlier': 'ETHBTC', 'type': 'SPOT'}, {'name': 'ETHUSD.SPOT', 'underlier': 'ETHUSD', 'type': 'SPOT'}, {'name': 'ETHGBP.SPOT', 'underlier': 'ETHGBP', 'type': 'SPOT'}, {'name': 'BTCCHF.SPOT', 'underlier': 'BTCCHF', 'type': 'SPOT'}, {'name': 'BCHAUD.SPOT', 'underlier': 'BCHAUD', 'type': 'SPOT'}, {'name': 'LTCAUD.SPOT', 'underlier': 'LTCAUD', 'type': 'SPOT'}, {'name': 'BCHGBP.SPOT', 'underlier': 'BCHGBP', 'type': 'SPOT'}, {'name': 'LTCGBP.SPOT', 'underlier': 'LTCGBP', 'type': 'SPOT'}, {'name': 'XRPJPY.SPOT', 'underlier': 'XRPJPY', 'type': 'SPOT'}, {'name': 'ETHUST.SPOT', 'underlier': 'ETHUST', 'type': 'SPOT'}, {'name': 'XRPUST.SPOT', 'underlier': 'XRPUST', 'type': 'SPOT'}, {'name': 'EURUSD.SPOT', 'underlier': 'EURUSD', 'type': 'SPOT'}, {'name': 'BTCCAD.SPOT', 'underlier': 'BTCCAD', 'type': 'SPOT'}, {'name': 'BTCJPY.SPOT', 'underlier': 'BTCJPY', 'type': 'SPOT'}, {'name': 'ETHJPY.SPOT', 'underlier': 'ETHJPY', 'type': 'SPOT'}, {'name': 'BCHBTC.SPOT', 'underlier': 'BCHBTC', 'type': 'SPOT'}, {'name': 'BCHEUR.SPOT', 'underlier': 'BCHEUR', 'type': 'SPOT'}, {'name': 'LTCJPY.SPOT', 'underlier': 'LTCJPY', 'type': 'SPOT'}, {'name': 'LTCCAD.SPOT', 'underlier': 'LTCCAD', 'type': 'SPOT'}, {'name': 'XRPBTC.SPOT', 'underlier': 'XRPBTC', 'type': 'SPOT'}, {'name': 'BTCMXN.SPOT', 'underlier': 'BTCMXN', 'type': 'SPOT'}, {'name': 'BCHCHF.SPOT', 'underlier': 'BCHCHF', 'type': 'SPOT'}, {'name': 'BTCUST.SPOT', 'underlier': 'BTCUST', 'type': 'SPOT'}, {'name': 'BTCNZD.SPOT', 'underlier': 'BTCNZD', 'type': 'SPOT'}, {'name': 'XRPETH.SPOT', 'underlier': 'XRPETH', 'type': 'SPOT'}, {'name': 'ETHEUR.SPOT', 'underlier': 'ETHEUR', 'type': 'SPOT'}, {'name': 'BTCSGD.SPOT', 'underlier': 'BTCSGD', 'type': 'SPOT'}, {'name': 'ETHCAD.SPOT', 'underlier': 'ETHCAD', 'type': 'SPOT'}, {'name': 'ETHCHF.SPOT', 'underlier': 'ETHCHF', 'type': 'SPOT'}, {'name': 'BTCAUD.SPOT', 'underlier': 'BTCAUD', 'type': 'SPOT'}, {'name': 'ETHAUD.SPOT', 'underlier': 'ETHAUD', 'type': 'SPOT'}, {'name': 'LTCBTC.SPOT', 'underlier': 'LTCBTC', 'type': 'SPOT'}, {'name': 'XRPUSD.SPOT', 'underlier': 'XRPUSD', 'type': 'SPOT'}, {'name': 'XRPAUD.SPOT', 'underlier': 'XRPAUD', 'type': 'SPOT'}, {'name': 'LTCCHF.SPOT', 'underlier': 'LTCCHF', 'type': 'SPOT'}, {'name': 'EOSUSD.SPOT', 'underlier': 'EOSUSD', 'type': 'SPOT'}, {'name': 'USTUSD.SPOT', 'underlier': 'USTUSD', 'type': 'SPOT'}, {'name': 'BCHUST.SPOT', 'underlier': 'BCHUST', 'type': 'SPOT'}, {'name': 'LTCETH.SPOT', 'underlier': 'LTCETH', 'type': 'SPOT'}, {'name': 'ETHSGD.SPOT', 'underlier': 'ETHSGD', 'type': 'SPOT'}, {'name': 'LTCEUR.SPOT', 'underlier': 'LTCEUR', 'type': 'SPOT'}, {'name': 'BCHJPY.SPOT', 'underlier': 'BCHJPY', 'type': 'SPOT'}, {'name': 'BCHSGD.SPOT', 'underlier': 'BCHSGD', 'type': 'SPOT'}, {'name': 'BCHCAD.SPOT', 'underlier': 'BCHCAD', 'type': 'SPOT'}, {'name': 'XRPGBP.SPOT', 'underlier': 'XRPGBP', 'type': 'SPOT'}, {'name': 'XRPEUR.SPOT', 'underlier': 'XRPEUR', 'type': 'SPOT'}, {'name': 'XRPCHF.SPOT', 'underlier': 'XRPCHF', 'type': 'SPOT'}, {'name': 'XRPCAD.SPOT', 'underlier': 'XRPCAD', 'type': 'SPOT'}, {'name': 'XRPNZD.SPOT', 'underlier': 'XRPNZD', 'type': 'SPOT'}]\n"
     ]
    },
    {
     "data": {
      "application/vnd.jupyter.widget-view+json": {
       "model_id": "10e0a95f8a9d431eb733399c849e5d2d",
       "version_major": 2,
       "version_minor": 0
      },
      "text/plain": [
       "VBox(children=(HBox(children=(Box(children=(Select(layout=Layout(height='revert', width='100%'), options=(Inst…"
      ]
     },
     "metadata": {},
     "output_type": "display_data"
    },
    {
     "name": "stderr",
     "output_type": "stream",
     "text": [
      "Outgoing Request <PreparedRequest [POST]>\n",
      "Incomming Response <Response [201]>\n"
     ]
    },
    {
     "name": "stdout",
     "output_type": "stream",
     "text": [
      "{'created': '2021-01-29T15:59:15.629653Z', 'valid_until': '2021-01-29T15:59:36.629310Z', 'rfq_id': '938616c2-703b-40e1-8cb4-065afab7611e', 'client_rfq_id': '99b5aece-00e7-4379-9b6c-5ee6303d0619', 'quantity': '1.0000000000', 'side': 'buy', 'instrument': 'LTCUSD.SPOT', 'price': '142.71000000'}\n"
     ]
    }
   ],
   "source": [
    "client.gui.instrument_selector()"
   ]
  },
  {
   "cell_type": "code",
   "execution_count": 4,
   "id": "maritime-facility",
   "metadata": {
    "collapsed": true,
    "jupyter": {
     "outputs_hidden": true
    }
   },
   "outputs": [
    {
     "data": {
      "application/vnd.jupyter.widget-view+json": {
       "model_id": "b8884ac4ba074c5aaf017fc0d5a57887",
       "version_major": 2,
       "version_minor": 0
      },
      "text/plain": [
       "Tab(children=(Box(), Box()), _titles={'0': 'Trades', '1': 'Quotes'})"
      ]
     },
     "metadata": {},
     "output_type": "display_data"
    }
   ],
   "source": [
    "client.gui.history()"
   ]
  },
  {
   "cell_type": "code",
   "execution_count": 5,
   "id": "spectacular-birmingham",
   "metadata": {
    "collapsed": true,
    "jupyter": {
     "outputs_hidden": true
    }
   },
   "outputs": [
    {
     "data": {
      "application/vnd.jupyter.widget-view+json": {
       "model_id": "3d45977f0eaa4d5aad9f4c53e9319203",
       "version_major": 2,
       "version_minor": 0
      },
      "text/plain": [
       "VBox()"
      ]
     },
     "metadata": {},
     "output_type": "display_data"
    }
   ],
   "source": [
    "client.gui.balances()\n"
   ]
  },
  {
   "cell_type": "code",
   "execution_count": null,
   "id": "roman-indication",
   "metadata": {},
   "outputs": [],
   "source": [
    "\n",
    "\n",
    "\n"
   ]
  },
  {
   "cell_type": "code",
   "execution_count": 6,
   "id": "green-adelaide",
   "metadata": {},
   "outputs": [
    {
     "data": {
      "application/vnd.jupyter.widget-view+json": {
       "model_id": "a5301f79aa4f4bf6942d03bbd72c42f9",
       "version_major": 2,
       "version_minor": 0
      },
      "text/plain": [
       "VBox(children=(HBox(children=(Label(value='Valid Until:', layout=Layout(width='150px')), Label(value='2021-01-…"
      ]
     },
     "metadata": {},
     "output_type": "display_data"
    },
    {
     "name": "stderr",
     "output_type": "stream",
     "text": [
      "Outgoing Request <PreparedRequest [POST]>\n",
      "Incomming Response <Response [201]>\n"
     ]
    },
    {
     "name": "stdout",
     "output_type": "stream",
     "text": [
      "{'trade_id': '1661e0ea-bf83-4540-b77a-6038e90ac896', 'rfq_id': '938616c2-703b-40e1-8cb4-065afab7611e', 'order': None, 'quantity': '1.0000000000', 'side': 'buy', 'instrument': 'LTCUSD.SPOT', 'price': '142.71000000', 'created': '2021-01-29T15:59:20.273863Z', 'user': 'codingtest-candidate', 'origin': 'rest'}\n"
     ]
    },
    {
     "name": "stderr",
     "output_type": "stream",
     "text": [
      "Outgoing Request <PreparedRequest [POST]>\n",
      "Incomming Response <Response [400]>\n"
     ]
    },
    {
     "name": "stdout",
     "output_type": "stream",
     "text": [
      "{'errors': [{'field': 'non_field_errors', 'message': 'RFQ 938616c2-703b-40e1-8cb4-065afab7611e has expired or has been replaced by a new one. It was valid until 2021-01-29T15:59:36.629310Z', 'code': 1007}]}\n"
     ]
    },
    {
     "ename": "ValidationError",
     "evalue": "9 validation errors for TradeResponse\ncreated\n  field required (type=value_error.missing)\nprice\n  field required (type=value_error.missing)\ninstrument\n  field required (type=value_error.missing)\ntrade_id\n  field required (type=value_error.missing)\norigin\n  field required (type=value_error.missing)\nrfq_id\n  field required (type=value_error.missing)\nside\n  field required (type=value_error.missing)\nquantity\n  field required (type=value_error.missing)\nuser\n  field required (type=value_error.missing)",
     "output_type": "error",
     "traceback": [
      "\u001b[0;31m---------------------------------------------------------------------------\u001b[0m",
      "\u001b[0;31mValidationError\u001b[0m                           Traceback (most recent call last)",
      "\u001b[0;32m~/Developer/b2c2_test/b2c2/views/quote.py\u001b[0m in \u001b[0;36m_execute_trade\u001b[0;34m(self, event)\u001b[0m\n\u001b[1;32m     84\u001b[0m \u001b[0;34m\u001b[0m\u001b[0m\n\u001b[1;32m     85\u001b[0m         \u001b[0mquote\u001b[0m \u001b[0;34m=\u001b[0m \u001b[0mself\u001b[0m\u001b[0;34m.\u001b[0m\u001b[0m_quote_adapter\u001b[0m\u001b[0;34m.\u001b[0m\u001b[0mquote\u001b[0m\u001b[0;34m\u001b[0m\u001b[0;34m\u001b[0m\u001b[0m\n\u001b[0;32m---> 86\u001b[0;31m         \u001b[0mtrade_response\u001b[0m \u001b[0;34m=\u001b[0m \u001b[0mquote\u001b[0m\u001b[0;34m.\u001b[0m\u001b[0mexecute_trade\u001b[0m\u001b[0;34m(\u001b[0m\u001b[0mexecuting_unit\u001b[0m\u001b[0;34m)\u001b[0m\u001b[0;34m\u001b[0m\u001b[0;34m\u001b[0m\u001b[0m\n\u001b[0m\u001b[1;32m     87\u001b[0m \u001b[0;34m\u001b[0m\u001b[0m\n\u001b[1;32m     88\u001b[0m         self._log_output.append_stdout(\n",
      "\u001b[0;32m~/Developer/b2c2_test/b2c2/models.py\u001b[0m in \u001b[0;36mwrapper\u001b[0;34m(self, *args, **kwargs)\u001b[0m\n\u001b[1;32m     26\u001b[0m             )\n\u001b[1;32m     27\u001b[0m \u001b[0;34m\u001b[0m\u001b[0m\n\u001b[0;32m---> 28\u001b[0;31m         \u001b[0;32mreturn\u001b[0m \u001b[0mfunc\u001b[0m\u001b[0;34m(\u001b[0m\u001b[0mself\u001b[0m\u001b[0;34m,\u001b[0m \u001b[0;34m*\u001b[0m\u001b[0margs\u001b[0m\u001b[0;34m,\u001b[0m \u001b[0;34m**\u001b[0m\u001b[0mkwargs\u001b[0m\u001b[0;34m)\u001b[0m\u001b[0;34m\u001b[0m\u001b[0;34m\u001b[0m\u001b[0m\n\u001b[0m\u001b[1;32m     29\u001b[0m \u001b[0;34m\u001b[0m\u001b[0m\n\u001b[1;32m     30\u001b[0m     \u001b[0;32mreturn\u001b[0m \u001b[0mwrapper\u001b[0m\u001b[0;34m\u001b[0m\u001b[0;34m\u001b[0m\u001b[0m\n",
      "\u001b[0;32m~/Developer/b2c2_test/b2c2/models.py\u001b[0m in \u001b[0;36mexecute_trade\u001b[0;34m(self, executing_unit)\u001b[0m\n\u001b[1;32m    236\u001b[0m         \"\"\"\n\u001b[1;32m    237\u001b[0m         \u001b[0mtrade\u001b[0m \u001b[0;34m=\u001b[0m \u001b[0mself\u001b[0m\u001b[0;34m.\u001b[0m\u001b[0mget_trade\u001b[0m\u001b[0;34m(\u001b[0m\u001b[0mexecuting_unit\u001b[0m\u001b[0;34m=\u001b[0m\u001b[0mexecuting_unit\u001b[0m\u001b[0;34m)\u001b[0m\u001b[0;34m\u001b[0m\u001b[0;34m\u001b[0m\u001b[0m\n\u001b[0;32m--> 238\u001b[0;31m         \u001b[0;32mreturn\u001b[0m \u001b[0mself\u001b[0m\u001b[0;34m.\u001b[0m\u001b[0m_client\u001b[0m\u001b[0;34m.\u001b[0m\u001b[0mpost_trade\u001b[0m\u001b[0;34m(\u001b[0m\u001b[0mtrade\u001b[0m\u001b[0;34m)\u001b[0m\u001b[0;34m\u001b[0m\u001b[0;34m\u001b[0m\u001b[0m\n\u001b[0m\u001b[1;32m    239\u001b[0m \u001b[0;34m\u001b[0m\u001b[0m\n\u001b[1;32m    240\u001b[0m \u001b[0;34m\u001b[0m\u001b[0m\n",
      "\u001b[0;32m~/Developer/b2c2_test/b2c2/client.py\u001b[0m in \u001b[0;36mpost_trade\u001b[0;34m(self, body)\u001b[0m\n\u001b[1;32m    237\u001b[0m \u001b[0;34m\u001b[0m\u001b[0m\n\u001b[1;32m    238\u001b[0m     \u001b[0;32mdef\u001b[0m \u001b[0mpost_trade\u001b[0m\u001b[0;34m(\u001b[0m\u001b[0mself\u001b[0m\u001b[0;34m,\u001b[0m \u001b[0mbody\u001b[0m\u001b[0;34m:\u001b[0m \u001b[0mTrade\u001b[0m\u001b[0;34m)\u001b[0m \u001b[0;34m->\u001b[0m \u001b[0mTradeResponse\u001b[0m\u001b[0;34m:\u001b[0m\u001b[0;34m\u001b[0m\u001b[0;34m\u001b[0m\u001b[0m\n\u001b[0;32m--> 239\u001b[0;31m         \u001b[0mresp\u001b[0m \u001b[0;34m=\u001b[0m \u001b[0msuper\u001b[0m\u001b[0;34m(\u001b[0m\u001b[0;34m)\u001b[0m\u001b[0;34m.\u001b[0m\u001b[0mpost_trade\u001b[0m\u001b[0;34m(\u001b[0m\u001b[0mbody\u001b[0m\u001b[0;34m)\u001b[0m\u001b[0;34m\u001b[0m\u001b[0;34m\u001b[0m\u001b[0m\n\u001b[0m\u001b[1;32m    240\u001b[0m         \u001b[0mself\u001b[0m\u001b[0;34m.\u001b[0m\u001b[0mhistory\u001b[0m\u001b[0;34m.\u001b[0m\u001b[0madd_trade\u001b[0m\u001b[0;34m(\u001b[0m\u001b[0mresp\u001b[0m\u001b[0;34m)\u001b[0m\u001b[0;34m\u001b[0m\u001b[0;34m\u001b[0m\u001b[0m\n\u001b[1;32m    241\u001b[0m         \u001b[0;32mreturn\u001b[0m \u001b[0mresp\u001b[0m\u001b[0;34m\u001b[0m\u001b[0;34m\u001b[0m\u001b[0m\n",
      "\u001b[0;32m~/Developer/b2c2_test/b2c2/open_api_client.py\u001b[0m in \u001b[0;36mwrapped\u001b[0;34m(self, body, **kwargs)\u001b[0m\n\u001b[1;32m     79\u001b[0m                     \u001b[0mrule\u001b[0m\u001b[0;34m,\u001b[0m\u001b[0;34m\u001b[0m\u001b[0;34m\u001b[0m\u001b[0m\n\u001b[1;32m     80\u001b[0m                     \u001b[0mbody\u001b[0m\u001b[0;34m,\u001b[0m\u001b[0;34m\u001b[0m\u001b[0;34m\u001b[0m\u001b[0m\n\u001b[0;32m---> 81\u001b[0;31m                     \u001b[0;34m**\u001b[0m\u001b[0mkwargs\u001b[0m\u001b[0;34m,\u001b[0m\u001b[0;34m\u001b[0m\u001b[0;34m\u001b[0m\u001b[0m\n\u001b[0m\u001b[1;32m     82\u001b[0m                 )\n\u001b[1;32m     83\u001b[0m         \u001b[0;32melse\u001b[0m\u001b[0;34m:\u001b[0m\u001b[0;34m\u001b[0m\u001b[0;34m\u001b[0m\u001b[0m\n",
      "\u001b[0;32m~/Developer/b2c2_test/b2c2/open_api_client.py\u001b[0m in \u001b[0;36m_make_request\u001b[0;34m(self, rule, body)\u001b[0m\n\u001b[1;32m    167\u001b[0m             \u001b[0mresponse_body\u001b[0m \u001b[0;34m=\u001b[0m \u001b[0mresponse\u001b[0m\u001b[0;34m.\u001b[0m\u001b[0mjson\u001b[0m\u001b[0;34m(\u001b[0m\u001b[0;34m)\u001b[0m\u001b[0;34m\u001b[0m\u001b[0;34m\u001b[0m\u001b[0m\n\u001b[1;32m    168\u001b[0m             \u001b[0mprint\u001b[0m\u001b[0;34m(\u001b[0m\u001b[0mresponse_body\u001b[0m\u001b[0;34m)\u001b[0m\u001b[0;34m\u001b[0m\u001b[0;34m\u001b[0m\u001b[0m\n\u001b[0;32m--> 169\u001b[0;31m             \u001b[0mresponse_wrapped\u001b[0m \u001b[0;34m=\u001b[0m \u001b[0mrule\u001b[0m\u001b[0;34m.\u001b[0m\u001b[0mresponse\u001b[0m\u001b[0;34m.\u001b[0m\u001b[0mparse_obj\u001b[0m\u001b[0;34m(\u001b[0m\u001b[0mresponse_body\u001b[0m\u001b[0;34m)\u001b[0m\u001b[0;34m\u001b[0m\u001b[0;34m\u001b[0m\u001b[0m\n\u001b[0m\u001b[1;32m    170\u001b[0m             \u001b[0mresponse_wrapped\u001b[0m\u001b[0;34m.\u001b[0m\u001b[0m_client\u001b[0m \u001b[0;34m=\u001b[0m \u001b[0mself\u001b[0m\u001b[0;34m\u001b[0m\u001b[0;34m\u001b[0m\u001b[0m\n\u001b[1;32m    171\u001b[0m         \u001b[0;32melse\u001b[0m\u001b[0;34m:\u001b[0m\u001b[0;34m\u001b[0m\u001b[0;34m\u001b[0m\u001b[0m\n",
      "\u001b[0;32m~/.pyenv/versions/3.7.3/envs/b2c2_client/lib/python3.7/site-packages/pydantic/main.cpython-37m-darwin.so\u001b[0m in \u001b[0;36mpydantic.main.BaseModel.parse_obj\u001b[0;34m()\u001b[0m\n",
      "\u001b[0;32m~/.pyenv/versions/3.7.3/envs/b2c2_client/lib/python3.7/site-packages/pydantic/main.cpython-37m-darwin.so\u001b[0m in \u001b[0;36mpydantic.main.BaseModel.__init__\u001b[0;34m()\u001b[0m\n",
      "\u001b[0;31mValidationError\u001b[0m: 9 validation errors for TradeResponse\ncreated\n  field required (type=value_error.missing)\nprice\n  field required (type=value_error.missing)\ninstrument\n  field required (type=value_error.missing)\ntrade_id\n  field required (type=value_error.missing)\norigin\n  field required (type=value_error.missing)\nrfq_id\n  field required (type=value_error.missing)\nside\n  field required (type=value_error.missing)\nquantity\n  field required (type=value_error.missing)\nuser\n  field required (type=value_error.missing)"
     ]
    }
   ],
   "source": [
    "quote"
   ]
  },
  {
   "cell_type": "code",
   "execution_count": 7,
   "id": "opponent-quebec",
   "metadata": {},
   "outputs": [
    {
     "data": {
      "application/vnd.jupyter.widget-view+json": {
       "model_id": "e77f741968c64accad5abb47b262fb82",
       "version_major": 2,
       "version_minor": 0
      },
      "text/plain": [
       "VBox(children=(HBox(children=(Label(value='Valid Until:', layout=Layout(width='150px')), Label(value='2021-01-…"
      ]
     },
     "metadata": {},
     "output_type": "display_data"
    }
   ],
   "source": [
    "quote"
   ]
  },
  {
   "cell_type": "code",
   "execution_count": 12,
   "id": "curious-xerox",
   "metadata": {},
   "outputs": [
    {
     "data": {
      "application/vnd.jupyter.widget-view+json": {
       "model_id": "7fa79fbd6fd04012ad7a1f57ea8911a5",
       "version_major": 2,
       "version_minor": 0
      },
      "text/plain": [
       "VBox(children=(HBox(children=(Label(value='Valid Until:', layout=Layout(width='150px')), Label(value='2021-01-…"
      ]
     },
     "metadata": {},
     "output_type": "display_data"
    },
    {
     "name": "stderr",
     "output_type": "stream",
     "text": [
      "Outgoing Request <PreparedRequest [POST]>\n",
      "Outgoing Request <PreparedRequest [POST]>\n",
      "Incomming Response <Response [400]>\n",
      "Incomming Response <Response [400]>\n"
     ]
    },
    {
     "ename": "ValidationError",
     "evalue": "9 validation errors for TradeResponse\ncreated\n  field required (type=value_error.missing)\nprice\n  field required (type=value_error.missing)\ninstrument\n  field required (type=value_error.missing)\ntrade_id\n  field required (type=value_error.missing)\norigin\n  field required (type=value_error.missing)\nrfq_id\n  field required (type=value_error.missing)\nside\n  field required (type=value_error.missing)\nquantity\n  field required (type=value_error.missing)\nuser\n  field required (type=value_error.missing)",
     "output_type": "error",
     "traceback": [
      "\u001b[0;31m---------------------------------------------------------------------------\u001b[0m",
      "\u001b[0;31mValidationError\u001b[0m                           Traceback (most recent call last)",
      "\u001b[0;32m~/Developer/b2c2_test/b2c2/views/quote.py\u001b[0m in \u001b[0;36m_execute_trade\u001b[0;34m(self, event)\u001b[0m\n\u001b[1;32m     84\u001b[0m \u001b[0;34m\u001b[0m\u001b[0m\n\u001b[1;32m     85\u001b[0m         \u001b[0mquote\u001b[0m \u001b[0;34m=\u001b[0m \u001b[0mself\u001b[0m\u001b[0;34m.\u001b[0m\u001b[0m_quote_adapter\u001b[0m\u001b[0;34m.\u001b[0m\u001b[0mquote\u001b[0m\u001b[0;34m\u001b[0m\u001b[0;34m\u001b[0m\u001b[0m\n\u001b[0;32m---> 86\u001b[0;31m         \u001b[0mtrade_response\u001b[0m \u001b[0;34m=\u001b[0m \u001b[0mquote\u001b[0m\u001b[0;34m.\u001b[0m\u001b[0mexecute_trade\u001b[0m\u001b[0;34m(\u001b[0m\u001b[0mexecuting_unit\u001b[0m\u001b[0;34m)\u001b[0m\u001b[0;34m\u001b[0m\u001b[0;34m\u001b[0m\u001b[0m\n\u001b[0m\u001b[1;32m     87\u001b[0m \u001b[0;34m\u001b[0m\u001b[0m\n\u001b[1;32m     88\u001b[0m         self._log_output.append_stdout(\n",
      "\u001b[0;32m~/Developer/b2c2_test/b2c2/models.py\u001b[0m in \u001b[0;36mwrapper\u001b[0;34m(self, *args, **kwargs)\u001b[0m\n\u001b[1;32m     26\u001b[0m             )\n\u001b[1;32m     27\u001b[0m \u001b[0;34m\u001b[0m\u001b[0m\n\u001b[0;32m---> 28\u001b[0;31m         \u001b[0;32mreturn\u001b[0m \u001b[0mfunc\u001b[0m\u001b[0;34m(\u001b[0m\u001b[0mself\u001b[0m\u001b[0;34m,\u001b[0m \u001b[0;34m*\u001b[0m\u001b[0margs\u001b[0m\u001b[0;34m,\u001b[0m \u001b[0;34m**\u001b[0m\u001b[0mkwargs\u001b[0m\u001b[0;34m)\u001b[0m\u001b[0;34m\u001b[0m\u001b[0;34m\u001b[0m\u001b[0m\n\u001b[0m\u001b[1;32m     29\u001b[0m \u001b[0;34m\u001b[0m\u001b[0m\n\u001b[1;32m     30\u001b[0m     \u001b[0;32mreturn\u001b[0m \u001b[0mwrapper\u001b[0m\u001b[0;34m\u001b[0m\u001b[0;34m\u001b[0m\u001b[0m\n",
      "\u001b[0;32m~/Developer/b2c2_test/b2c2/models.py\u001b[0m in \u001b[0;36mexecute_trade\u001b[0;34m(self, executing_unit)\u001b[0m\n\u001b[1;32m    236\u001b[0m         \"\"\"\n\u001b[1;32m    237\u001b[0m         \u001b[0mtrade\u001b[0m \u001b[0;34m=\u001b[0m \u001b[0mself\u001b[0m\u001b[0;34m.\u001b[0m\u001b[0mget_trade\u001b[0m\u001b[0;34m(\u001b[0m\u001b[0mexecuting_unit\u001b[0m\u001b[0;34m=\u001b[0m\u001b[0mexecuting_unit\u001b[0m\u001b[0;34m)\u001b[0m\u001b[0;34m\u001b[0m\u001b[0;34m\u001b[0m\u001b[0m\n\u001b[0;32m--> 238\u001b[0;31m         \u001b[0;32mreturn\u001b[0m \u001b[0mself\u001b[0m\u001b[0;34m.\u001b[0m\u001b[0m_client\u001b[0m\u001b[0;34m.\u001b[0m\u001b[0mpost_trade\u001b[0m\u001b[0;34m(\u001b[0m\u001b[0mtrade\u001b[0m\u001b[0;34m)\u001b[0m\u001b[0;34m\u001b[0m\u001b[0;34m\u001b[0m\u001b[0m\n\u001b[0m\u001b[1;32m    239\u001b[0m \u001b[0;34m\u001b[0m\u001b[0m\n\u001b[1;32m    240\u001b[0m \u001b[0;34m\u001b[0m\u001b[0m\n",
      "\u001b[0;32m~/Developer/b2c2_test/b2c2/client.py\u001b[0m in \u001b[0;36mpost_trade\u001b[0;34m(self, body)\u001b[0m\n\u001b[1;32m    237\u001b[0m \u001b[0;34m\u001b[0m\u001b[0m\n\u001b[1;32m    238\u001b[0m     \u001b[0;32mdef\u001b[0m \u001b[0mpost_trade\u001b[0m\u001b[0;34m(\u001b[0m\u001b[0mself\u001b[0m\u001b[0;34m,\u001b[0m \u001b[0mbody\u001b[0m\u001b[0;34m:\u001b[0m \u001b[0mTrade\u001b[0m\u001b[0;34m)\u001b[0m \u001b[0;34m->\u001b[0m \u001b[0mTradeResponse\u001b[0m\u001b[0;34m:\u001b[0m\u001b[0;34m\u001b[0m\u001b[0;34m\u001b[0m\u001b[0m\n\u001b[0;32m--> 239\u001b[0;31m         \u001b[0mresp\u001b[0m \u001b[0;34m=\u001b[0m \u001b[0msuper\u001b[0m\u001b[0;34m(\u001b[0m\u001b[0;34m)\u001b[0m\u001b[0;34m.\u001b[0m\u001b[0mpost_trade\u001b[0m\u001b[0;34m(\u001b[0m\u001b[0mbody\u001b[0m\u001b[0;34m)\u001b[0m\u001b[0;34m\u001b[0m\u001b[0;34m\u001b[0m\u001b[0m\n\u001b[0m\u001b[1;32m    240\u001b[0m         \u001b[0mself\u001b[0m\u001b[0;34m.\u001b[0m\u001b[0mhistory\u001b[0m\u001b[0;34m.\u001b[0m\u001b[0madd_trade\u001b[0m\u001b[0;34m(\u001b[0m\u001b[0mresp\u001b[0m\u001b[0;34m)\u001b[0m\u001b[0;34m\u001b[0m\u001b[0;34m\u001b[0m\u001b[0m\n\u001b[1;32m    241\u001b[0m         \u001b[0;32mreturn\u001b[0m \u001b[0mresp\u001b[0m\u001b[0;34m\u001b[0m\u001b[0;34m\u001b[0m\u001b[0m\n",
      "\u001b[0;32m~/Developer/b2c2_test/b2c2/open_api_client.py\u001b[0m in \u001b[0;36mwrapped\u001b[0;34m(self, body, **kwargs)\u001b[0m\n\u001b[1;32m     79\u001b[0m                     \u001b[0mrule\u001b[0m\u001b[0;34m,\u001b[0m\u001b[0;34m\u001b[0m\u001b[0;34m\u001b[0m\u001b[0m\n\u001b[1;32m     80\u001b[0m                     \u001b[0mbody\u001b[0m\u001b[0;34m,\u001b[0m\u001b[0;34m\u001b[0m\u001b[0;34m\u001b[0m\u001b[0m\n\u001b[0;32m---> 81\u001b[0;31m                     \u001b[0;34m**\u001b[0m\u001b[0mkwargs\u001b[0m\u001b[0;34m,\u001b[0m\u001b[0;34m\u001b[0m\u001b[0;34m\u001b[0m\u001b[0m\n\u001b[0m\u001b[1;32m     82\u001b[0m                 )\n\u001b[1;32m     83\u001b[0m         \u001b[0;32melse\u001b[0m\u001b[0;34m:\u001b[0m\u001b[0;34m\u001b[0m\u001b[0;34m\u001b[0m\u001b[0m\n",
      "\u001b[0;32m~/Developer/b2c2_test/b2c2/open_api_client.py\u001b[0m in \u001b[0;36m_make_request\u001b[0;34m(self, rule, body)\u001b[0m\n\u001b[1;32m    165\u001b[0m         \u001b[0;32mif\u001b[0m \u001b[0missubclass\u001b[0m\u001b[0;34m(\u001b[0m\u001b[0mrule\u001b[0m\u001b[0;34m.\u001b[0m\u001b[0mresponse\u001b[0m\u001b[0;34m,\u001b[0m \u001b[0mBaseModel\u001b[0m\u001b[0;34m)\u001b[0m\u001b[0;34m:\u001b[0m\u001b[0;34m\u001b[0m\u001b[0;34m\u001b[0m\u001b[0m\n\u001b[1;32m    166\u001b[0m \u001b[0;34m\u001b[0m\u001b[0m\n\u001b[0;32m--> 167\u001b[0;31m             \u001b[0mresponse_body\u001b[0m \u001b[0;34m=\u001b[0m \u001b[0mresponse\u001b[0m\u001b[0;34m.\u001b[0m\u001b[0mjson\u001b[0m\u001b[0;34m(\u001b[0m\u001b[0;34m)\u001b[0m\u001b[0;34m\u001b[0m\u001b[0;34m\u001b[0m\u001b[0m\n\u001b[0m\u001b[1;32m    168\u001b[0m             \u001b[0mprint\u001b[0m\u001b[0;34m(\u001b[0m\u001b[0mresponse_body\u001b[0m\u001b[0;34m)\u001b[0m\u001b[0;34m\u001b[0m\u001b[0;34m\u001b[0m\u001b[0m\n\u001b[1;32m    169\u001b[0m             \u001b[0mresponse_wrapped\u001b[0m \u001b[0;34m=\u001b[0m \u001b[0mrule\u001b[0m\u001b[0;34m.\u001b[0m\u001b[0mresponse\u001b[0m\u001b[0;34m.\u001b[0m\u001b[0mparse_obj\u001b[0m\u001b[0;34m(\u001b[0m\u001b[0mresponse_body\u001b[0m\u001b[0;34m)\u001b[0m\u001b[0;34m\u001b[0m\u001b[0;34m\u001b[0m\u001b[0m\n",
      "\u001b[0;32m~/.pyenv/versions/3.7.3/envs/b2c2_client/lib/python3.7/site-packages/pydantic/main.cpython-37m-darwin.so\u001b[0m in \u001b[0;36mpydantic.main.BaseModel.parse_obj\u001b[0;34m()\u001b[0m\n",
      "\u001b[0;32m~/.pyenv/versions/3.7.3/envs/b2c2_client/lib/python3.7/site-packages/pydantic/main.cpython-37m-darwin.so\u001b[0m in \u001b[0;36mpydantic.main.BaseModel.__init__\u001b[0;34m()\u001b[0m\n",
      "\u001b[0;31mValidationError\u001b[0m: 9 validation errors for TradeResponse\ncreated\n  field required (type=value_error.missing)\nprice\n  field required (type=value_error.missing)\ninstrument\n  field required (type=value_error.missing)\ntrade_id\n  field required (type=value_error.missing)\norigin\n  field required (type=value_error.missing)\nrfq_id\n  field required (type=value_error.missing)\nside\n  field required (type=value_error.missing)\nquantity\n  field required (type=value_error.missing)\nuser\n  field required (type=value_error.missing)"
     ]
    }
   ],
   "source": [
    "quote"
   ]
  },
  {
   "cell_type": "code",
   "execution_count": 5,
   "id": "endangered-picking",
   "metadata": {},
   "outputs": [
    {
     "data": {
      "application/vnd.jupyter.widget-view+json": {
       "model_id": "7e4b90a02b414775a732e8fcb773709d",
       "version_major": 2,
       "version_minor": 0
      },
      "text/plain": [
       "VBox(children=(HBox(children=(Label(value='Valid Until:', layout=Layout(width='150px')), Label(value='2021-01-…"
      ]
     },
     "metadata": {},
     "output_type": "display_data"
    }
   ],
   "source": [
    "quote"
   ]
  }
 ],
 "metadata": {
  "kernelspec": {
   "display_name": "Python 3",
   "language": "python",
   "name": "python3"
  },
  "language_info": {
   "codemirror_mode": {
    "name": "ipython",
    "version": 3
   },
   "file_extension": ".py",
   "mimetype": "text/x-python",
   "name": "python",
   "nbconvert_exporter": "python",
   "pygments_lexer": "ipython3",
   "version": "3.7.3"
  },
  "widgets": {
   "application/vnd.jupyter.widget-state+json": {
    "state": {
     "03912c772dfe4b11b916bb2d1ec6f565": {
      "model_module": "@jupyter-widgets/controls",
      "model_module_version": "1.5.0",
      "model_name": "LabelModel",
      "state": {
       "layout": "IPY_MODEL_67f69f75e10b4d2f8f81a4c739c1cb05",
       "style": "IPY_MODEL_d175e2faaf24469db64d11457a8a2e02",
       "value": "Side: buy"
      }
     },
     "082bbc480a164c7fb75e4045b56d4022": {
      "model_module": "@jupyter-widgets/base",
      "model_module_version": "1.2.0",
      "model_name": "LayoutModel",
      "state": {}
     },
     "0899bb47b69c45fcba312da45147fb32": {
      "model_module": "@jupyter-widgets/controls",
      "model_module_version": "1.5.0",
      "model_name": "DescriptionStyleModel",
      "state": {
       "description_width": ""
      }
     },
     "0c1427db21a54cd0bd2dbef7bc824801": {
      "model_module": "@jupyter-widgets/controls",
      "model_module_version": "1.5.0",
      "model_name": "VBoxModel",
      "state": {
       "children": [
        "IPY_MODEL_c75c6507621c46a9b2da83430c8bca8d"
       ],
       "layout": "IPY_MODEL_fa5d7271464649dab0865921acc49d39"
      }
     },
     "0d617b089309412588519f4682cc1883": {
      "model_module": "@jupyter-widgets/base",
      "model_module_version": "1.2.0",
      "model_name": "LayoutModel",
      "state": {}
     },
     "0e5e5a8d723444d4a70ab9c0bec0f73e": {
      "model_module": "@jupyter-widgets/base",
      "model_module_version": "1.2.0",
      "model_name": "LayoutModel",
      "state": {}
     },
     "0f2e534e83ea43c6b5886f24f7f78749": {
      "model_module": "@jupyter-widgets/base",
      "model_module_version": "1.2.0",
      "model_name": "LayoutModel",
      "state": {}
     },
     "1026fbe814d44800a3a8b87ecaaf4b59": {
      "model_module": "@jupyter-widgets/controls",
      "model_module_version": "1.5.0",
      "model_name": "SliderStyleModel",
      "state": {
       "description_width": ""
      }
     },
     "11098b7646134828afd0d17efa005e75": {
      "model_module": "@jupyter-widgets/controls",
      "model_module_version": "1.5.0",
      "model_name": "DescriptionStyleModel",
      "state": {
       "description_width": ""
      }
     },
     "14449d5495d94da9a1581a79911fecf3": {
      "model_module": "@jupyter-widgets/controls",
      "model_module_version": "1.5.0",
      "model_name": "DescriptionStyleModel",
      "state": {
       "description_width": ""
      }
     },
     "15e000bc2c8c45febc353426a34d9c5b": {
      "model_module": "@jupyter-widgets/controls",
      "model_module_version": "1.5.0",
      "model_name": "LabelModel",
      "state": {
       "layout": "IPY_MODEL_650814451f654c9dbd50023ccc812a64",
       "style": "IPY_MODEL_f2fe788c1e96409f8aa13cbef4e5be8a",
       "value": "Created: 2018-02-06 16:07:50.122206+00:00"
      }
     },
     "177443090df44df2b4ba09b0b1773407": {
      "model_module": "@jupyter-widgets/controls",
      "model_module_version": "1.5.0",
      "model_name": "DescriptionStyleModel",
      "state": {
       "description_width": ""
      }
     },
     "19a4c1a9c16e4d62bf358df5a1f76d66": {
      "model_module": "@jupyter-widgets/base",
      "model_module_version": "1.2.0",
      "model_name": "LayoutModel",
      "state": {}
     },
     "1a9903c56f294c6981fa1a94be4a88ad": {
      "model_module": "@jupyter-widgets/base",
      "model_module_version": "1.2.0",
      "model_name": "LayoutModel",
      "state": {}
     },
     "1b38edad10134c918fb7a37aea5bba9d": {
      "model_module": "@jupyter-widgets/controls",
      "model_module_version": "1.5.0",
      "model_name": "DescriptionStyleModel",
      "state": {
       "description_width": ""
      }
     },
     "1b5b8af9e8994b2e930fe125a4c1dfd3": {
      "model_module": "@jupyter-widgets/controls",
      "model_module_version": "1.5.0",
      "model_name": "DescriptionStyleModel",
      "state": {
       "description_width": ""
      }
     },
     "20d0940d346c4e5da90edbabb967c4e3": {
      "model_module": "@jupyter-widgets/controls",
      "model_module_version": "1.5.0",
      "model_name": "LabelModel",
      "state": {
       "layout": "IPY_MODEL_19a4c1a9c16e4d62bf358df5a1f76d66",
       "style": "IPY_MODEL_f0319dcaa11e483894a9a6631f29fa1c",
       "value": "Client RFQ ID: 149dc3e7-4e30-4e1a-bb9c-9c30bd8f5ec7"
      }
     },
     "2194d37fe3c145489bb12ac4855dcc92": {
      "model_module": "@jupyter-widgets/controls",
      "model_module_version": "1.5.0",
      "model_name": "SelectModel",
      "state": {
       "_options_labels": [
        "BTCUSD.CFD",
        "BTCUSD.SPOT",
        "BTCEUR.SPOT",
        "BTCGBP.SPOT",
        "ETHBTC.SPOT",
        "ETHUSD.SPOT",
        "LTCUSD.SPOT",
        "XRPUSD.SPOT",
        "BCHUSD.SPOT"
       ],
       "index": 1,
       "layout": "IPY_MODEL_d05e67b9696f495ea717b174a875cdf6",
       "style": "IPY_MODEL_ca5db8947b164051820a5954b5857576"
      }
     },
     "24ffb46904c8451f87c8cfa2953b1deb": {
      "model_module": "@jupyter-widgets/base",
      "model_module_version": "1.2.0",
      "model_name": "LayoutModel",
      "state": {}
     },
     "2c940bf703cd473e9f1a419c91ed05c6": {
      "model_module": "@jupyter-widgets/base",
      "model_module_version": "1.2.0",
      "model_name": "LayoutModel",
      "state": {}
     },
     "302f844f9e104c23a95b5ea24a7311cd": {
      "model_module": "@jupyter-widgets/controls",
      "model_module_version": "1.5.0",
      "model_name": "LabelModel",
      "state": {
       "layout": "IPY_MODEL_9f808934718e40e6a90d175289793c87",
       "style": "IPY_MODEL_6c2e92d82ede4e10be9f3fac4049aa2f",
       "value": "Quantity: 1.0000000000"
      }
     },
     "35781cde03f04cc0a9d899244a3d69a3": {
      "model_module": "@jupyter-widgets/base",
      "model_module_version": "1.2.0",
      "model_name": "LayoutModel",
      "state": {}
     },
     "39578289dbdc4663ab8ee19f85ec9133": {
      "model_module": "@jupyter-widgets/controls",
      "model_module_version": "1.5.0",
      "model_name": "LabelModel",
      "state": {
       "layout": "IPY_MODEL_c549b85f27874f9296d2a7a226da424d",
       "style": "IPY_MODEL_596f3d2a54914afcbc44f686f86baf1a",
       "value": "Quantity: 1.0000000000"
      }
     },
     "39cce65d56de4eeb8b86ef923f4aa733": {
      "model_module": "@jupyter-widgets/controls",
      "model_module_version": "1.5.0",
      "model_name": "ButtonModel",
      "state": {
       "button_style": "danger",
       "description": "Execute Trade",
       "layout": "IPY_MODEL_35781cde03f04cc0a9d899244a3d69a3",
       "style": "IPY_MODEL_90d9f59d7cc948bab8330487d5fb89b4"
      }
     },
     "3a512aee4d2546308ec11addf2b4d154": {
      "model_module": "@jupyter-widgets/controls",
      "model_module_version": "1.5.0",
      "model_name": "LabelModel",
      "state": {
       "layout": "IPY_MODEL_b8d708fa3e9f47248094f6f3eafbe13e",
       "style": "IPY_MODEL_5dbbd66546104e418c9efdb2e6489952",
       "value": "RFQ ID: d4e41399-e7a1-4576-9b46-349420040e1a"
      }
     },
     "3c6ab4e5a1e4466e9f5026c863213034": {
      "model_module": "@jupyter-widgets/controls",
      "model_module_version": "1.5.0",
      "model_name": "DescriptionStyleModel",
      "state": {
       "description_width": ""
      }
     },
     "3d206100996a43ef8c73fd98ce0141c9": {
      "model_module": "@jupyter-widgets/controls",
      "model_module_version": "1.5.0",
      "model_name": "LabelModel",
      "state": {
       "layout": "IPY_MODEL_e26f8919d76c4ee9bf4e282f3089b268",
       "style": "IPY_MODEL_ab83b380cbe941b697880880b5a6071c",
       "value": "Created: 2018-02-06 16:07:50.122206+00:00"
      }
     },
     "3d88a9b076e54a578b65e6a64a300078": {
      "model_module": "@jupyter-widgets/controls",
      "model_module_version": "1.5.0",
      "model_name": "DescriptionStyleModel",
      "state": {
       "description_width": ""
      }
     },
     "41675b001e114525be0da25aba95487f": {
      "model_module": "@jupyter-widgets/controls",
      "model_module_version": "1.5.0",
      "model_name": "LabelModel",
      "state": {
       "layout": "IPY_MODEL_f640d6d5c3ea4b9d80a3bb164d46c85f",
       "style": "IPY_MODEL_441d26f8814648808f68c7f30c8b39c9",
       "value": "Valid Until: 2017-01-01 19:45:22.025464+00:00"
      }
     },
     "42071249b40749aeaaca1ba5f76848db": {
      "model_module": "@jupyter-widgets/controls",
      "model_module_version": "1.5.0",
      "model_name": "DescriptionStyleModel",
      "state": {
       "description_width": ""
      }
     },
     "43f5f277944a4bd3ab189fba5270c05c": {
      "model_module": "@jupyter-widgets/controls",
      "model_module_version": "1.5.0",
      "model_name": "ButtonModel",
      "state": {
       "description": "Create Monitor",
       "icon": "check",
       "layout": "IPY_MODEL_c15d89137e0e4ac0b02d51944aa55923",
       "style": "IPY_MODEL_c30002f3a00f45f49270cdbef82677d4"
      }
     },
     "441d26f8814648808f68c7f30c8b39c9": {
      "model_module": "@jupyter-widgets/controls",
      "model_module_version": "1.5.0",
      "model_name": "DescriptionStyleModel",
      "state": {
       "description_width": ""
      }
     },
     "45f623f8e60f46a787a7c7a581fcb7f3": {
      "model_module": "@jupyter-widgets/base",
      "model_module_version": "1.2.0",
      "model_name": "LayoutModel",
      "state": {}
     },
     "464874ca4d584cb787b7da16996caf6d": {
      "model_module": "@jupyter-widgets/controls",
      "model_module_version": "1.5.0",
      "model_name": "RadioButtonsModel",
      "state": {
       "_options_labels": [
        "SideEnum.buy",
        "SideEnum.sell"
       ],
       "description": "Side:",
       "index": 0,
       "layout": "IPY_MODEL_a70b6c1935df4ed19fd960c12db07037",
       "style": "IPY_MODEL_73889b7745f04d89b1aa9c05a3b0549c"
      }
     },
     "4685e6daf8754e9fbe88b436ad57901d": {
      "model_module": "@jupyter-widgets/base",
      "model_module_version": "1.2.0",
      "model_name": "LayoutModel",
      "state": {}
     },
     "4a931ecdc5b24159954b5ef34f44abb7": {
      "model_module": "@jupyter-widgets/controls",
      "model_module_version": "1.5.0",
      "model_name": "DescriptionStyleModel",
      "state": {
       "description_width": ""
      }
     },
     "4b177450df3349fb80ddf596f6c46624": {
      "model_module": "@jupyter-widgets/controls",
      "model_module_version": "1.5.0",
      "model_name": "ButtonModel",
      "state": {
       "description": "Create Quote",
       "icon": "check",
       "layout": "IPY_MODEL_c3a1afeed6b941e498df2f8af374c374",
       "style": "IPY_MODEL_ceaf1b06d4fa487199bd885f25bcba08"
      }
     },
     "4b5129e50e3c49dcaf8bf8e70b905420": {
      "model_module": "@jupyter-widgets/controls",
      "model_module_version": "1.5.0",
      "model_name": "LabelModel",
      "state": {
       "layout": "IPY_MODEL_5bdd79483b224593bbc726fd8b7c793f",
       "style": "IPY_MODEL_b9edd29cf80a4b7c836938d4bd73ab03",
       "value": "Instrument: BTCUSD.SPOT"
      }
     },
     "4dfa91d1d8a240dcab772d5a62e1a726": {
      "model_module": "@jupyter-widgets/base",
      "model_module_version": "1.2.0",
      "model_name": "LayoutModel",
      "state": {}
     },
     "55d1a2743fc54642bde8b125cc56b393": {
      "model_module": "@jupyter-widgets/controls",
      "model_module_version": "1.5.0",
      "model_name": "DescriptionStyleModel",
      "state": {
       "description_width": ""
      }
     },
     "58a4735364034f5eaadde00688a2e547": {
      "model_module": "@jupyter-widgets/base",
      "model_module_version": "1.2.0",
      "model_name": "LayoutModel",
      "state": {}
     },
     "596f3d2a54914afcbc44f686f86baf1a": {
      "model_module": "@jupyter-widgets/controls",
      "model_module_version": "1.5.0",
      "model_name": "DescriptionStyleModel",
      "state": {
       "description_width": ""
      }
     },
     "5a38188e685c4f358b3b29c288ce7cff": {
      "model_module": "@jupyter-widgets/controls",
      "model_module_version": "1.5.0",
      "model_name": "BoxModel",
      "state": {
       "children": [
        "IPY_MODEL_2194d37fe3c145489bb12ac4855dcc92"
       ],
       "layout": "IPY_MODEL_785122541abe4c1492243bcd9872bffe"
      }
     },
     "5bdd79483b224593bbc726fd8b7c793f": {
      "model_module": "@jupyter-widgets/base",
      "model_module_version": "1.2.0",
      "model_name": "LayoutModel",
      "state": {}
     },
     "5c42f8b950174f8f94d811dac08edb35": {
      "model_module": "@jupyter-widgets/base",
      "model_module_version": "1.2.0",
      "model_name": "LayoutModel",
      "state": {}
     },
     "5dbbd66546104e418c9efdb2e6489952": {
      "model_module": "@jupyter-widgets/controls",
      "model_module_version": "1.5.0",
      "model_name": "DescriptionStyleModel",
      "state": {
       "description_width": ""
      }
     },
     "650814451f654c9dbd50023ccc812a64": {
      "model_module": "@jupyter-widgets/base",
      "model_module_version": "1.2.0",
      "model_name": "LayoutModel",
      "state": {}
     },
     "67f69f75e10b4d2f8f81a4c739c1cb05": {
      "model_module": "@jupyter-widgets/base",
      "model_module_version": "1.2.0",
      "model_name": "LayoutModel",
      "state": {}
     },
     "6a3816c8d03c4747ac7bf41705a5456e": {
      "model_module": "@jupyter-widgets/controls",
      "model_module_version": "1.5.0",
      "model_name": "DescriptionStyleModel",
      "state": {
       "description_width": ""
      }
     },
     "6c2e92d82ede4e10be9f3fac4049aa2f": {
      "model_module": "@jupyter-widgets/controls",
      "model_module_version": "1.5.0",
      "model_name": "DescriptionStyleModel",
      "state": {
       "description_width": ""
      }
     },
     "6ca82dca0c614f45ae7fad847c6dc91d": {
      "model_module": "@jupyter-widgets/controls",
      "model_module_version": "1.5.0",
      "model_name": "DescriptionStyleModel",
      "state": {
       "description_width": ""
      }
     },
     "6f194c40330b42f381b2c3d70e88407c": {
      "model_module": "@jupyter-widgets/base",
      "model_module_version": "1.2.0",
      "model_name": "LayoutModel",
      "state": {
       "width": "revert"
      }
     },
     "7033c12d2bdf489fa27900d88067bda8": {
      "model_module": "@jupyter-widgets/base",
      "model_module_version": "1.2.0",
      "model_name": "LayoutModel",
      "state": {}
     },
     "724d6b25c60d4b93ba068830104d8da0": {
      "model_module": "@jupyter-widgets/controls",
      "model_module_version": "1.5.0",
      "model_name": "IntSliderModel",
      "state": {
       "layout": "IPY_MODEL_e9010c2768b5481f82d93180992d1a13",
       "style": "IPY_MODEL_f3a35c8555bd40b294e8dbe20dfbcb03"
      }
     },
     "73889b7745f04d89b1aa9c05a3b0549c": {
      "model_module": "@jupyter-widgets/controls",
      "model_module_version": "1.5.0",
      "model_name": "DescriptionStyleModel",
      "state": {
       "description_width": ""
      }
     },
     "743b96c22a7f4a8b825f04dc088fc088": {
      "model_module": "@jupyter-widgets/base",
      "model_module_version": "1.2.0",
      "model_name": "LayoutModel",
      "state": {}
     },
     "77bd814627164ba1bba62ffd940e979f": {
      "model_module": "@jupyter-widgets/controls",
      "model_module_version": "1.5.0",
      "model_name": "LabelModel",
      "state": {
       "layout": "IPY_MODEL_9e34365d7fc747ba8c061268822cf27e",
       "style": "IPY_MODEL_80e9eb502be646ffb1e6b9de625725de",
       "value": "Side: buy"
      }
     },
     "785122541abe4c1492243bcd9872bffe": {
      "model_module": "@jupyter-widgets/base",
      "model_module_version": "1.2.0",
      "model_name": "LayoutModel",
      "state": {
       "flex": "0 1 100%"
      }
     },
     "7f73f0b58d68440ea637297a1f9ce26a": {
      "model_module": "@jupyter-widgets/base",
      "model_module_version": "1.2.0",
      "model_name": "LayoutModel",
      "state": {}
     },
     "80e9eb502be646ffb1e6b9de625725de": {
      "model_module": "@jupyter-widgets/controls",
      "model_module_version": "1.5.0",
      "model_name": "DescriptionStyleModel",
      "state": {
       "description_width": ""
      }
     },
     "81e9af36dcf0432d8e17c1053af2aced": {
      "model_module": "@jupyter-widgets/controls",
      "model_module_version": "1.5.0",
      "model_name": "ButtonModel",
      "state": {
       "button_style": "danger",
       "description": "Execute Trade",
       "layout": "IPY_MODEL_0f2e534e83ea43c6b5886f24f7f78749",
       "style": "IPY_MODEL_efc39b1f6d314e52baf33a56ede6b769"
      }
     },
     "8744e3bccc2b48fdb665a8bdda6d0910": {
      "model_module": "@jupyter-widgets/base",
      "model_module_version": "1.2.0",
      "model_name": "LayoutModel",
      "state": {}
     },
     "88d6ac773ac643f99a5a2f935dfc0813": {
      "model_module": "@jupyter-widgets/controls",
      "model_module_version": "1.5.0",
      "model_name": "LabelModel",
      "state": {
       "layout": "IPY_MODEL_b860a6962c1a40ec9cc96c5a06d0f913",
       "style": "IPY_MODEL_cbd4cad921a542f2b330d3ec58d11f02",
       "value": "Price: 700.00000000"
      }
     },
     "8930725597ea45c595da3f95bafff26a": {
      "model_module": "@jupyter-widgets/controls",
      "model_module_version": "1.5.0",
      "model_name": "LabelModel",
      "state": {
       "layout": "IPY_MODEL_1a9903c56f294c6981fa1a94be4a88ad",
       "style": "IPY_MODEL_1b5b8af9e8994b2e930fe125a4c1dfd3",
       "value": "Price: 700.00000000"
      }
     },
     "8960871e03f74f649a60747b3a92a64e": {
      "model_module": "@jupyter-widgets/controls",
      "model_module_version": "1.5.0",
      "model_name": "LabelModel",
      "state": {
       "layout": "IPY_MODEL_2c940bf703cd473e9f1a419c91ed05c6",
       "style": "IPY_MODEL_3c6ab4e5a1e4466e9f5026c863213034",
       "value": "RFQ ID: d4e41399-e7a1-4576-9b46-349420040e1a"
      }
     },
     "8c1f12a6d94e42c7b23afb5a5d9f32fe": {
      "model_module": "@jupyter-widgets/controls",
      "model_module_version": "1.5.0",
      "model_name": "LabelModel",
      "state": {
       "layout": "IPY_MODEL_4dfa91d1d8a240dcab772d5a62e1a726",
       "style": "IPY_MODEL_0899bb47b69c45fcba312da45147fb32",
       "value": "Valid Until: 2017-01-01 19:45:22.025464+00:00"
      }
     },
     "8cc21e4abbd048d280bff2be40b6b5b4": {
      "model_module": "@jupyter-widgets/controls",
      "model_module_version": "1.5.0",
      "model_name": "LabelModel",
      "state": {
       "layout": "IPY_MODEL_7f73f0b58d68440ea637297a1f9ce26a",
       "style": "IPY_MODEL_11098b7646134828afd0d17efa005e75",
       "value": "Client RFQ ID: 149dc3e7-4e30-4e1a-bb9c-9c30bd8f5ec7"
      }
     },
     "8e1cffadb98342fb902c5620e6cdbcad": {
      "model_module": "@jupyter-widgets/controls",
      "model_module_version": "1.5.0",
      "model_name": "LabelModel",
      "state": {
       "layout": "IPY_MODEL_8e612c1ea5c34dcfb45ac8bc8851f68b",
       "style": "IPY_MODEL_965b6c9e7204476f983ffa41f6707180",
       "value": "Instrument: BTCUSD.SPOT"
      }
     },
     "8e612c1ea5c34dcfb45ac8bc8851f68b": {
      "model_module": "@jupyter-widgets/base",
      "model_module_version": "1.2.0",
      "model_name": "LayoutModel",
      "state": {}
     },
     "90d9f59d7cc948bab8330487d5fb89b4": {
      "model_module": "@jupyter-widgets/controls",
      "model_module_version": "1.5.0",
      "model_name": "ButtonStyleModel",
      "state": {}
     },
     "96228668c6f74f5fb6703189fc8bdda4": {
      "model_module": "@jupyter-widgets/controls",
      "model_module_version": "1.5.0",
      "model_name": "DescriptionStyleModel",
      "state": {
       "description_width": ""
      }
     },
     "965b6c9e7204476f983ffa41f6707180": {
      "model_module": "@jupyter-widgets/controls",
      "model_module_version": "1.5.0",
      "model_name": "DescriptionStyleModel",
      "state": {
       "description_width": ""
      }
     },
     "9ac47e7675ad400c894757130343ce01": {
      "model_module": "@jupyter-widgets/controls",
      "model_module_version": "1.5.0",
      "model_name": "TextModel",
      "state": {
       "description": "Client RFQ ID:",
       "layout": "IPY_MODEL_a85da3eb12d848c0896548e9c1883979",
       "placeholder": "Optional (for user side tracking)",
       "style": "IPY_MODEL_6ca82dca0c614f45ae7fad847c6dc91d"
      }
     },
     "9cba738b94e149ce901d733f58e269e5": {
      "model_module": "@jupyter-widgets/controls",
      "model_module_version": "1.5.0",
      "model_name": "LabelModel",
      "state": {
       "layout": "IPY_MODEL_5c42f8b950174f8f94d811dac08edb35",
       "style": "IPY_MODEL_55d1a2743fc54642bde8b125cc56b393",
       "value": "Created: 2018-02-06 16:07:50.122206+00:00"
      }
     },
     "9e34365d7fc747ba8c061268822cf27e": {
      "model_module": "@jupyter-widgets/base",
      "model_module_version": "1.2.0",
      "model_name": "LayoutModel",
      "state": {}
     },
     "9f808934718e40e6a90d175289793c87": {
      "model_module": "@jupyter-widgets/base",
      "model_module_version": "1.2.0",
      "model_name": "LayoutModel",
      "state": {}
     },
     "a512d4a1b3294a0c84567ad24e2d8755": {
      "model_module": "@jupyter-widgets/controls",
      "model_module_version": "1.5.0",
      "model_name": "LabelModel",
      "state": {
       "layout": "IPY_MODEL_58a4735364034f5eaadde00688a2e547",
       "style": "IPY_MODEL_96228668c6f74f5fb6703189fc8bdda4",
       "value": "Price: 700.00000000"
      }
     },
     "a66ef84270264e00b3d2bac64473d5c4": {
      "model_module": "@jupyter-widgets/base",
      "model_module_version": "1.2.0",
      "model_name": "LayoutModel",
      "state": {}
     },
     "a673b9290da9404a9f3097737a079b9f": {
      "model_module": "@jupyter-widgets/controls",
      "model_module_version": "1.5.0",
      "model_name": "ButtonModel",
      "state": {
       "button_style": "danger",
       "description": "Execute Trade",
       "layout": "IPY_MODEL_b8b8248108714c90ab1fd5c189deaf96",
       "style": "IPY_MODEL_b61919c7bc3c43b3905656284d69d06f"
      }
     },
     "a70b6c1935df4ed19fd960c12db07037": {
      "model_module": "@jupyter-widgets/base",
      "model_module_version": "1.2.0",
      "model_name": "LayoutModel",
      "state": {}
     },
     "a85da3eb12d848c0896548e9c1883979": {
      "model_module": "@jupyter-widgets/base",
      "model_module_version": "1.2.0",
      "model_name": "LayoutModel",
      "state": {}
     },
     "a9636d24018441deb0d14bdfae33e7b8": {
      "model_module": "@jupyter-widgets/controls",
      "model_module_version": "1.5.0",
      "model_name": "LabelModel",
      "state": {
       "layout": "IPY_MODEL_fd22dcc4c3054253a7cd9d7240809823",
       "style": "IPY_MODEL_177443090df44df2b4ba09b0b1773407",
       "value": "Quantity: 1.0000000000"
      }
     },
     "a9a7c6258e5249bfa1d09aa1725f8f2c": {
      "model_module": "@jupyter-widgets/controls",
      "model_module_version": "1.5.0",
      "model_name": "LabelModel",
      "state": {
       "layout": "IPY_MODEL_8744e3bccc2b48fdb665a8bdda6d0910",
       "style": "IPY_MODEL_1b38edad10134c918fb7a37aea5bba9d",
       "value": "Created: 2018-02-06 16:07:50.122206+00:00"
      }
     },
     "ab83b380cbe941b697880880b5a6071c": {
      "model_module": "@jupyter-widgets/controls",
      "model_module_version": "1.5.0",
      "model_name": "DescriptionStyleModel",
      "state": {
       "description_width": ""
      }
     },
     "ac9d898d5a8e4328b9167c967642f8fd": {
      "model_module": "@jupyter-widgets/controls",
      "model_module_version": "1.5.0",
      "model_name": "LabelModel",
      "state": {
       "layout": "IPY_MODEL_f8bd6c6a1d8f488d96b6bf9a537dd595",
       "style": "IPY_MODEL_14449d5495d94da9a1581a79911fecf3",
       "value": "Created: 2018-02-06 16:07:50.122206+00:00"
      }
     },
     "af09ec91ab00442cb2dd41899c6fddb9": {
      "model_module": "@jupyter-widgets/controls",
      "model_module_version": "1.5.0",
      "model_name": "LabelModel",
      "state": {
       "layout": "IPY_MODEL_743b96c22a7f4a8b825f04dc088fc088",
       "style": "IPY_MODEL_42071249b40749aeaaca1ba5f76848db",
       "value": "RFQ ID: d4e41399-e7a1-4576-9b46-349420040e1a"
      }
     },
     "b00971b37b374a27851e1dba9b29da67": {
      "model_module": "@jupyter-widgets/controls",
      "model_module_version": "1.5.0",
      "model_name": "LabelModel",
      "state": {
       "layout": "IPY_MODEL_0e5e5a8d723444d4a70ab9c0bec0f73e",
       "style": "IPY_MODEL_6a3816c8d03c4747ac7bf41705a5456e",
       "value": "Side: buy"
      }
     },
     "b61919c7bc3c43b3905656284d69d06f": {
      "model_module": "@jupyter-widgets/controls",
      "model_module_version": "1.5.0",
      "model_name": "ButtonStyleModel",
      "state": {}
     },
     "b860a6962c1a40ec9cc96c5a06d0f913": {
      "model_module": "@jupyter-widgets/base",
      "model_module_version": "1.2.0",
      "model_name": "LayoutModel",
      "state": {}
     },
     "b8b8248108714c90ab1fd5c189deaf96": {
      "model_module": "@jupyter-widgets/base",
      "model_module_version": "1.2.0",
      "model_name": "LayoutModel",
      "state": {}
     },
     "b8d708fa3e9f47248094f6f3eafbe13e": {
      "model_module": "@jupyter-widgets/base",
      "model_module_version": "1.2.0",
      "model_name": "LayoutModel",
      "state": {}
     },
     "b945605bf5174a789e84327780800077": {
      "model_module": "@jupyter-widgets/controls",
      "model_module_version": "1.5.0",
      "model_name": "LabelModel",
      "state": {
       "layout": "IPY_MODEL_0d617b089309412588519f4682cc1883",
       "style": "IPY_MODEL_cfaa6261437b436385d87de0d4c2b15c",
       "value": "Instrument: BTCUSD.SPOT"
      }
     },
     "b9edd29cf80a4b7c836938d4bd73ab03": {
      "model_module": "@jupyter-widgets/controls",
      "model_module_version": "1.5.0",
      "model_name": "DescriptionStyleModel",
      "state": {
       "description_width": ""
      }
     },
     "bb477bcb7a4641e8bac740e31388d147": {
      "model_module": "@jupyter-widgets/base",
      "model_module_version": "1.2.0",
      "model_name": "LayoutModel",
      "state": {}
     },
     "bc55205ed5874f2c8eee7abf69e63221": {
      "model_module": "@jupyter-widgets/controls",
      "model_module_version": "1.5.0",
      "model_name": "IntSliderModel",
      "state": {
       "description": "Quantity:",
       "layout": "IPY_MODEL_6f194c40330b42f381b2c3d70e88407c",
       "min": 1,
       "style": "IPY_MODEL_1026fbe814d44800a3a8b87ecaaf4b59",
       "value": 1
      }
     },
     "c133e0ba0ebd4c4b9bfe0126bde8569b": {
      "model_module": "@jupyter-widgets/controls",
      "model_module_version": "1.5.0",
      "model_name": "VBoxModel",
      "state": {
       "children": [
        "IPY_MODEL_bc55205ed5874f2c8eee7abf69e63221",
        "IPY_MODEL_464874ca4d584cb787b7da16996caf6d",
        "IPY_MODEL_9ac47e7675ad400c894757130343ce01",
        "IPY_MODEL_e56fadb3ff514880b9d8ccbd97fea7a7"
       ],
       "layout": "IPY_MODEL_c6180f1d22494700965a2e7c8a82bc8e"
      }
     },
     "c15d89137e0e4ac0b02d51944aa55923": {
      "model_module": "@jupyter-widgets/base",
      "model_module_version": "1.2.0",
      "model_name": "LayoutModel",
      "state": {}
     },
     "c30002f3a00f45f49270cdbef82677d4": {
      "model_module": "@jupyter-widgets/controls",
      "model_module_version": "1.5.0",
      "model_name": "ButtonStyleModel",
      "state": {}
     },
     "c3a1afeed6b941e498df2f8af374c374": {
      "model_module": "@jupyter-widgets/base",
      "model_module_version": "1.2.0",
      "model_name": "LayoutModel",
      "state": {}
     },
     "c549b85f27874f9296d2a7a226da424d": {
      "model_module": "@jupyter-widgets/base",
      "model_module_version": "1.2.0",
      "model_name": "LayoutModel",
      "state": {}
     },
     "c6180f1d22494700965a2e7c8a82bc8e": {
      "model_module": "@jupyter-widgets/base",
      "model_module_version": "1.2.0",
      "model_name": "LayoutModel",
      "state": {
       "flex": "0 1 100%"
      }
     },
     "c698483f6fb84c0e8f59111206057164": {
      "model_module": "@jupyter-widgets/controls",
      "model_module_version": "1.5.0",
      "model_name": "DescriptionStyleModel",
      "state": {
       "description_width": ""
      }
     },
     "c6f7896316e549f5a289a00474764a42": {
      "model_module": "@jupyter-widgets/controls",
      "model_module_version": "1.5.0",
      "model_name": "VBoxModel",
      "state": {
       "children": [
        "IPY_MODEL_8c1f12a6d94e42c7b23afb5a5d9f32fe",
        "IPY_MODEL_3a512aee4d2546308ec11addf2b4d154",
        "IPY_MODEL_20d0940d346c4e5da90edbabb967c4e3",
        "IPY_MODEL_39578289dbdc4663ab8ee19f85ec9133",
        "IPY_MODEL_b00971b37b374a27851e1dba9b29da67",
        "IPY_MODEL_8e1cffadb98342fb902c5620e6cdbcad",
        "IPY_MODEL_a512d4a1b3294a0c84567ad24e2d8755",
        "IPY_MODEL_a9a7c6258e5249bfa1d09aa1725f8f2c",
        "IPY_MODEL_39cce65d56de4eeb8b86ef923f4aa733"
       ],
       "layout": "IPY_MODEL_082bbc480a164c7fb75e4045b56d4022"
      }
     },
     "c75c6507621c46a9b2da83430c8bca8d": {
      "model_module": "@jupyter-widgets/controls",
      "model_module_version": "1.5.0",
      "model_name": "HBoxModel",
      "state": {
       "children": [
        "IPY_MODEL_5a38188e685c4f358b3b29c288ce7cff",
        "IPY_MODEL_c133e0ba0ebd4c4b9bfe0126bde8569b"
       ],
       "layout": "IPY_MODEL_24ffb46904c8451f87c8cfa2953b1deb"
      }
     },
     "ca5db8947b164051820a5954b5857576": {
      "model_module": "@jupyter-widgets/controls",
      "model_module_version": "1.5.0",
      "model_name": "DescriptionStyleModel",
      "state": {
       "description_width": ""
      }
     },
     "cbd4cad921a542f2b330d3ec58d11f02": {
      "model_module": "@jupyter-widgets/controls",
      "model_module_version": "1.5.0",
      "model_name": "DescriptionStyleModel",
      "state": {
       "description_width": ""
      }
     },
     "ceaf1b06d4fa487199bd885f25bcba08": {
      "model_module": "@jupyter-widgets/controls",
      "model_module_version": "1.5.0",
      "model_name": "ButtonStyleModel",
      "state": {}
     },
     "cfaa6261437b436385d87de0d4c2b15c": {
      "model_module": "@jupyter-widgets/controls",
      "model_module_version": "1.5.0",
      "model_name": "DescriptionStyleModel",
      "state": {
       "description_width": ""
      }
     },
     "d05e67b9696f495ea717b174a875cdf6": {
      "model_module": "@jupyter-widgets/base",
      "model_module_version": "1.2.0",
      "model_name": "LayoutModel",
      "state": {
       "height": "revert",
       "width": "100%"
      }
     },
     "d175e2faaf24469db64d11457a8a2e02": {
      "model_module": "@jupyter-widgets/controls",
      "model_module_version": "1.5.0",
      "model_name": "DescriptionStyleModel",
      "state": {
       "description_width": ""
      }
     },
     "d21a374317d94cbaacde625547c13fb3": {
      "model_module": "@jupyter-widgets/controls",
      "model_module_version": "1.5.0",
      "model_name": "LabelModel",
      "state": {
       "layout": "IPY_MODEL_4685e6daf8754e9fbe88b436ad57901d",
       "style": "IPY_MODEL_4a931ecdc5b24159954b5ef34f44abb7",
       "value": "Valid Until: 2017-01-01 19:45:22.025464+00:00"
      }
     },
     "d54bed06a8d043b88791c87c93201691": {
      "model_module": "@jupyter-widgets/controls",
      "model_module_version": "1.5.0",
      "model_name": "VBoxModel",
      "state": {
       "children": [
        "IPY_MODEL_41675b001e114525be0da25aba95487f",
        "IPY_MODEL_af09ec91ab00442cb2dd41899c6fddb9",
        "IPY_MODEL_d79c2a7c675b4d00bc7a206edf2866ef",
        "IPY_MODEL_a9636d24018441deb0d14bdfae33e7b8",
        "IPY_MODEL_77bd814627164ba1bba62ffd940e979f",
        "IPY_MODEL_b945605bf5174a789e84327780800077",
        "IPY_MODEL_8930725597ea45c595da3f95bafff26a",
        "IPY_MODEL_9cba738b94e149ce901d733f58e269e5",
        "IPY_MODEL_a673b9290da9404a9f3097737a079b9f"
       ],
       "layout": "IPY_MODEL_bb477bcb7a4641e8bac740e31388d147"
      }
     },
     "d79c2a7c675b4d00bc7a206edf2866ef": {
      "model_module": "@jupyter-widgets/controls",
      "model_module_version": "1.5.0",
      "model_name": "LabelModel",
      "state": {
       "layout": "IPY_MODEL_a66ef84270264e00b3d2bac64473d5c4",
       "style": "IPY_MODEL_3d88a9b076e54a578b65e6a64a300078",
       "value": "Client RFQ ID: 149dc3e7-4e30-4e1a-bb9c-9c30bd8f5ec7"
      }
     },
     "d973ab2ecfe84828b7f65750779e1e45": {
      "model_module": "@jupyter-widgets/controls",
      "model_module_version": "1.5.0",
      "model_name": "VBoxModel",
      "state": {
       "children": [
        "IPY_MODEL_d21a374317d94cbaacde625547c13fb3",
        "IPY_MODEL_8960871e03f74f649a60747b3a92a64e",
        "IPY_MODEL_8cc21e4abbd048d280bff2be40b6b5b4",
        "IPY_MODEL_302f844f9e104c23a95b5ea24a7311cd",
        "IPY_MODEL_03912c772dfe4b11b916bb2d1ec6f565",
        "IPY_MODEL_4b5129e50e3c49dcaf8bf8e70b905420",
        "IPY_MODEL_88d6ac773ac643f99a5a2f935dfc0813",
        "IPY_MODEL_ac9d898d5a8e4328b9167c967642f8fd",
        "IPY_MODEL_81e9af36dcf0432d8e17c1053af2aced"
       ],
       "layout": "IPY_MODEL_45f623f8e60f46a787a7c7a581fcb7f3"
      }
     },
     "e26f8919d76c4ee9bf4e282f3089b268": {
      "model_module": "@jupyter-widgets/base",
      "model_module_version": "1.2.0",
      "model_name": "LayoutModel",
      "state": {}
     },
     "e56fadb3ff514880b9d8ccbd97fea7a7": {
      "model_module": "@jupyter-widgets/controls",
      "model_module_version": "1.5.0",
      "model_name": "HBoxModel",
      "state": {
       "children": [
        "IPY_MODEL_4b177450df3349fb80ddf596f6c46624",
        "IPY_MODEL_43f5f277944a4bd3ab189fba5270c05c"
       ],
       "layout": "IPY_MODEL_f578517c442d432b97c963db4cba75e7"
      }
     },
     "e9010c2768b5481f82d93180992d1a13": {
      "model_module": "@jupyter-widgets/base",
      "model_module_version": "1.2.0",
      "model_name": "LayoutModel",
      "state": {}
     },
     "efc39b1f6d314e52baf33a56ede6b769": {
      "model_module": "@jupyter-widgets/controls",
      "model_module_version": "1.5.0",
      "model_name": "ButtonStyleModel",
      "state": {}
     },
     "f0319dcaa11e483894a9a6631f29fa1c": {
      "model_module": "@jupyter-widgets/controls",
      "model_module_version": "1.5.0",
      "model_name": "DescriptionStyleModel",
      "state": {
       "description_width": ""
      }
     },
     "f181d9fa076049e0a3955f9190bbd74e": {
      "model_module": "@jupyter-widgets/controls",
      "model_module_version": "1.5.0",
      "model_name": "LabelModel",
      "state": {
       "layout": "IPY_MODEL_7033c12d2bdf489fa27900d88067bda8",
       "style": "IPY_MODEL_c698483f6fb84c0e8f59111206057164",
       "value": "Created: 2018-02-06 16:07:50.122206+00:00"
      }
     },
     "f2fe788c1e96409f8aa13cbef4e5be8a": {
      "model_module": "@jupyter-widgets/controls",
      "model_module_version": "1.5.0",
      "model_name": "DescriptionStyleModel",
      "state": {
       "description_width": ""
      }
     },
     "f3a35c8555bd40b294e8dbe20dfbcb03": {
      "model_module": "@jupyter-widgets/controls",
      "model_module_version": "1.5.0",
      "model_name": "SliderStyleModel",
      "state": {
       "description_width": ""
      }
     },
     "f578517c442d432b97c963db4cba75e7": {
      "model_module": "@jupyter-widgets/base",
      "model_module_version": "1.2.0",
      "model_name": "LayoutModel",
      "state": {}
     },
     "f640d6d5c3ea4b9d80a3bb164d46c85f": {
      "model_module": "@jupyter-widgets/base",
      "model_module_version": "1.2.0",
      "model_name": "LayoutModel",
      "state": {}
     },
     "f8bd6c6a1d8f488d96b6bf9a537dd595": {
      "model_module": "@jupyter-widgets/base",
      "model_module_version": "1.2.0",
      "model_name": "LayoutModel",
      "state": {}
     },
     "fa5d7271464649dab0865921acc49d39": {
      "model_module": "@jupyter-widgets/base",
      "model_module_version": "1.2.0",
      "model_name": "LayoutModel",
      "state": {}
     },
     "fd22dcc4c3054253a7cd9d7240809823": {
      "model_module": "@jupyter-widgets/base",
      "model_module_version": "1.2.0",
      "model_name": "LayoutModel",
      "state": {}
     }
    },
    "version_major": 2,
    "version_minor": 0
   }
  }
 },
 "nbformat": 4,
 "nbformat_minor": 5
}
